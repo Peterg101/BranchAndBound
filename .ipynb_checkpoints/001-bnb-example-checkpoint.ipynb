{
 "cells": [
  {
   "cell_type": "markdown",
   "id": "e247543d-c630-488e-9285-962185f4e350",
   "metadata": {},
   "source": [
    "# Branch and Bround\n",
    "\n",
    "We are going to: Make a branch and bound algo.\n",
    "\n",
    "Something where we can make assignments of entities into templates where there are:\n",
    "- constraints about what entities can fit into what parts of the templates\n",
    "- constraints about what entities can appear in the same template\n",
    "\n",
    "Things we need:\n",
    "- Good representation of the problem\n",
    "- A way to find valid next moves\n",
    "- A way to score complete solutiosn\n",
    "- A way to calc a lowerbound for partial solutions"
   ]
  },
  {
   "cell_type": "markdown",
   "id": "e22705f3-33fc-409f-b62c-637ec675ad14",
   "metadata": {},
   "source": [
    "## Define the problem\n",
    "\n",
    "Chocolates: \n",
    "- Viennese\n",
    "- Alpini\n",
    "- Coffee\n",
    "\n",
    "LinearGiftBox:\n",
    "- 2 V, 3 A, 1 C\n",
    "- over all length\n",
    "- Bonus: actually, it's 2 halfs, each with an over all length.\n",
    "\n",
    "Chocolates:\n",
    "- Type\n",
    "- Width\n",
    "\n",
    "Supply:\n",
    "- List[Chocolates]\n",
    "\n",
    "Problems:\n",
    "- n boxes\n",
    "- supply of chocolates\n",
    "- assign chocolates to boxes.\n",
    "- fewest empty gaps in boxes.\n",
    "\n",
    "Constraints:\n",
    "- sum(width) in box is less than box over all length\n",
    "- chocolates must be in the right place\n",
    "- chocolates can't be in two places at once\n",
    "- a single space can't contain two chocolates\n",
    "- chocolates must be in the right slots.\n"
   ]
  },
  {
   "cell_type": "code",
   "execution_count": null,
   "id": "6097ce92-9e6e-4613-917b-41160ee8e7d4",
   "metadata": {},
   "outputs": [],
   "source": []
  },
  {
   "cell_type": "code",
   "execution_count": null,
   "id": "78d4cd9e-627c-4060-9bbb-5dce0808f673",
   "metadata": {},
   "outputs": [],
   "source": [
    "def lower_bound(partial_solution):\n",
    "    # They fight\n",
    "    pass"
   ]
  },
  {
   "cell_type": "code",
   "execution_count": null,
   "id": "eb9b6b72-ac66-476a-89f7-dd3f63edf031",
   "metadata": {},
   "outputs": [],
   "source": [
    "def score(solution):\n",
    "\n",
    "    \n",
    "    for box in boxes:\n",
    "        num_gaps = \n",
    "    \n",
    "    pass"
   ]
  },
  {
   "cell_type": "code",
   "execution_count": null,
   "id": "b1a501a8-1890-489d-adfa-6f6b2f68ed5e",
   "metadata": {},
   "outputs": [],
   "source": [
    "def branch(partial_solution):\n",
    "\n",
    "    #1. Identify the possible next moves\n",
    "    #1a. find a list of empty slots\n",
    "    #1b. for each slot figure out what chocolates could go in there\n",
    "    # - check by chocolate type\n",
    "    # - check that wouldn't make box length go over.\n",
    "    #2. for each valid solution:\n",
    "    # - calculate lower bound\n",
    "    # - if lowerbound better than current best actual solution,  add to queue\n",
    "    \n",
    "    pass"
   ]
  },
  {
   "cell_type": "code",
   "execution_count": null,
   "id": "7de3e59c-1e20-4a9b-8654-a11d6748df5a",
   "metadata": {},
   "outputs": [],
   "source": [
    "def is_valid(partial_solution):\n",
    "\n",
    "    width_ok = all([\n",
    "        calc_total_width(box) < box.max_length\n",
    "        for box in boxes\n",
    "    ])\n",
    "\n",
    "    matches_pattern = all([\n",
    "        is_box_order_valid(box) for box in boxes\n",
    "    ])\n",
    "\n",
    "def is_box_order_valid(box: ???):\n",
    "\n",
    "    # This looks like python but it isn't yet.\n",
    "    for slot in box:\n",
    "        slot.target_type == slot.assigned_type\n",
    "\n",
    "    return True if all valid.\n",
    "    "
   ]
  }
 ],
 "metadata": {
  "kernelspec": {
   "display_name": "Python 3 (ipykernel)",
   "language": "python",
   "name": "python3"
  },
  "language_info": {
   "codemirror_mode": {
    "name": "ipython",
    "version": 3
   },
   "file_extension": ".py",
   "mimetype": "text/x-python",
   "name": "python",
   "nbconvert_exporter": "python",
   "pygments_lexer": "ipython3",
   "version": "3.10.9"
  }
 },
 "nbformat": 4,
 "nbformat_minor": 5
}
