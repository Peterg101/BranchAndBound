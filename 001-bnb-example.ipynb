{
 "cells": [
  {
   "cell_type": "markdown",
   "id": "e247543d-c630-488e-9285-962185f4e350",
   "metadata": {},
   "source": [
    "# Branch and Bround\n",
    "\n",
    "We are going to: Make a branch and bound algo.\n",
    "\n",
    "Something where we can make assignments of entities into templates where there are:\n",
    "- constraints about what entities can fit into what parts of the templates\n",
    "- constraints about what entities can appear in the same template\n",
    "\n",
    "Things we need:\n",
    "- Good representation of the problem\n",
    "- A way to find valid next moves\n",
    "- A way to score complete solutiosn\n",
    "- A way to calc a lowerbound for partial solutions"
   ]
  },
  {
   "cell_type": "markdown",
   "id": "e22705f3-33fc-409f-b62c-637ec675ad14",
   "metadata": {},
   "source": [
    "## Define the problem\n",
    "\n",
    "Chocolates: \n",
    "- Viennese\n",
    "- coffee\n",
    "- Coffee\n",
    "\n",
    "LinearGiftBox:\n",
    "- 2 V, 3 A, 1 C\n",
    "- over all length\n",
    "- Bonus: actually, it's 2 halfs, each with an over all length.\n",
    "\n",
    "Chocolates:\n",
    "- Type\n",
    "- Width\n",
    "\n",
    "Supply:\n",
    "- List[Chocolates]\n",
    "\n",
    "Problems:\n",
    "- n boxes\n",
    "- supply of chocolates\n",
    "- assign chocolates to boxes.\n",
    "- fewest empty gaps in boxes.\n",
    "\n",
    "Constraints:\n",
    "- sum(width) in box is less than box over all length\n",
    "- chocolates must be in the right place\n",
    "- chocolates can't be in two places at once\n",
    "- a single space can't contain two chocolates\n",
    "- chocolates must be in the right slots.\n"
   ]
  },
  {
   "cell_type": "code",
   "execution_count": 56,
   "id": "8d20e35d",
   "metadata": {},
   "outputs": [],
   "source": [
    "from typing import List, Optional, Union, Tuple\n",
    "from copy import deepcopy"
   ]
  },
  {
   "cell_type": "code",
   "execution_count": 57,
   "id": "a54ee559",
   "metadata": {},
   "outputs": [],
   "source": [
    "class Chocolate:\n",
    "    \"\"\"Class for a chocolate\"\"\"\n",
    "    id: str\n",
    "    type: str\n",
    "    width: int\n"
   ]
  },
  {
   "cell_type": "code",
   "execution_count": 58,
   "id": "57d2c873",
   "metadata": {},
   "outputs": [],
   "source": [
    "class ChocolateBox:\n",
    "    \"\"\"Class for a chocolate box\"\"\"\n",
    "    \n",
    "    template: List[str]\n",
    "    total_width: int\n",
    "    \n",
    "    def __init__(self, template, total_width):\n",
    "        self.num_chocolates = len(template)\n",
    "        self.template = template\n",
    "        self.chocolates = [None] * self.num_chocolates\n",
    "        self.total_width = total_width\n",
    "        self.remaining_width = total_width\n",
    "    \n",
    "    def find_empty_spaces(self):\n",
    "        empty_spaces = [idx for idx, choc in enumerate(self.chocolates) if choc is None]\n",
    "        return empty_spaces\n",
    "\n",
    "    def identify_possible_chocolates(self, chocolates: List[Chocolate], space_index: int) -> List[Chocolate]:\n",
    "        chocolate_type = self.template[space_index]\n",
    "        available_chocolates = [choc for choc in chocolates if choc.type == chocolate_type]\n",
    "        return available_chocolates\n",
    "    \n",
    "    def assign_chocolates(self, chocolate: Chocolate, space: int):\n",
    "        self.chocolates[space] = chocolate\n",
    "    \n",
    "    def calculate_remaining_width(self):\n",
    "        populated_weights = [chocolate.width for chocolate in self.chocolates if chocolate is not None]\n",
    "        remaining_width = self.total_width -sum(populated_weights)\n",
    "        self.remaining_width = remaining_width\n",
    "        print(self.remaining_width)\n",
    "        return self.remaining_width\n",
    "        # remaining_width = self.total_width - sum(self.chocolates)\n",
    "        # print(remaining_width)\n",
    "        # return remaining_width\n",
    "        \n"
   ]
  },
  {
   "cell_type": "code",
   "execution_count": 59,
   "id": "b36f23a9",
   "metadata": {},
   "outputs": [],
   "source": [
    "v_1 = Chocolate()\n",
    "v_1.id = \"v_1\"\n",
    "v_1.type = \"viennese\"\n",
    "v_1.width = 5\n",
    "\n",
    "v_2 = Chocolate()\n",
    "v_2.id = \"v_2\"\n",
    "v_2.type = \"viennese\"\n",
    "v_2.width = 7\n",
    "\n",
    "v_3 = Chocolate()\n",
    "v_3.id = \"v_3\"\n",
    "v_3.type = \"viennese\"\n",
    "v_3.width = 4\n",
    "\n",
    "v_4 = Chocolate()\n",
    "v_4.id = \"v_4\"\n",
    "v_4.type = \"viennese\"\n",
    "v_4.width = 8\n",
    "\n",
    "v_5 = Chocolate()\n",
    "v_5.id = \"v_5\"\n",
    "v_5.type = \"viennese\"\n",
    "v_5.width = 9"
   ]
  },
  {
   "cell_type": "code",
   "execution_count": 60,
   "id": "e5e4501a",
   "metadata": {},
   "outputs": [],
   "source": [
    "a_1 = Chocolate()\n",
    "a_1.id = \"a_1\"\n",
    "a_1.type = \"alpini\"\n",
    "a_1.width = 5\n",
    "\n",
    "a_2 = Chocolate()\n",
    "a_2.id = \"a_2\"\n",
    "a_2.type = \"alpini\"\n",
    "a_2.width = 7\n",
    "\n",
    "a_3 = Chocolate()\n",
    "a_3.id = \"a_3\"\n",
    "a_3.type = \"alpini\"\n",
    "a_3.width = 4\n",
    "\n",
    "a_4 = Chocolate()\n",
    "a_4.id = \"a_4\"\n",
    "a_4.type = \"alpini\"\n",
    "a_4.width = 8\n",
    "\n",
    "a_5 = Chocolate()\n",
    "a_5.id = \"a_5\"\n",
    "a_5.type = \"alpini\"\n",
    "a_5.width = 9"
   ]
  },
  {
   "cell_type": "code",
   "execution_count": 61,
   "id": "c79a5991",
   "metadata": {},
   "outputs": [],
   "source": [
    "c_1 = Chocolate()\n",
    "c_1.id = \"c_1\"\n",
    "c_1.type = \"coffee\"\n",
    "c_1.width = 5\n",
    "\n",
    "c_2 = Chocolate()\n",
    "c_2.id = \"c_2\"\n",
    "c_2.type = \"coffee\"\n",
    "c_2.width = 7\n",
    "\n",
    "c_3 = Chocolate()\n",
    "c_3.id = \"c_3\"\n",
    "c_3.type = \"coffee\"\n",
    "c_3.width = 4\n",
    "\n",
    "c_4 = Chocolate()\n",
    "c_4.id = \"c_4\"\n",
    "c_4.type = \"coffee\"\n",
    "c_4.width = 8\n",
    "\n",
    "c_5 = Chocolate()\n",
    "c_5.id = \"c_5\"\n",
    "c_5.type = \"coffee\"\n",
    "c_5.width = 9"
   ]
  },
  {
   "cell_type": "code",
   "execution_count": 62,
   "id": "9863fa0e",
   "metadata": {},
   "outputs": [],
   "source": [
    "chocolates = [v_1, v_2, v_3, v_4, v_5, a_1, a_2, a_3, a_4, a_5, c_1, c_2, c_3, c_4, c_5 ]"
   ]
  },
  {
   "cell_type": "code",
   "execution_count": 63,
   "id": "f81689f5",
   "metadata": {},
   "outputs": [
    {
     "name": "stdout",
     "output_type": "stream",
     "text": [
      "[(<__main__.ChocolateBox object at 0x0000018F65F18DC0>, [<__main__.Chocolate object at 0x0000018F65E5F880>, <__main__.Chocolate object at 0x0000018F65E5F910>, <__main__.Chocolate object at 0x0000018F65E5F820>, <__main__.Chocolate object at 0x0000018F65E5CFA0>, <__main__.Chocolate object at 0x0000018F65EB90F0>, <__main__.Chocolate object at 0x0000018F65EB98D0>, <__main__.Chocolate object at 0x0000018F65EBA290>, <__main__.Chocolate object at 0x0000018F65EBAB60>, <__main__.Chocolate object at 0x0000018F65EB9B40>, <__main__.Chocolate object at 0x0000018F65EBA260>, <__main__.Chocolate object at 0x0000018F65EB8A60>, <__main__.Chocolate object at 0x0000018F65EBA2C0>, <__main__.Chocolate object at 0x0000018F65EB9D80>, <__main__.Chocolate object at 0x0000018F65EB9FC0>]), (<__main__.ChocolateBox object at 0x0000018F65F19690>, [<__main__.Chocolate object at 0x0000018F65E5E4A0>, <__main__.Chocolate object at 0x0000018F65E5F910>, <__main__.Chocolate object at 0x0000018F65E5F820>, <__main__.Chocolate object at 0x0000018F65E5CFA0>, <__main__.Chocolate object at 0x0000018F65EB90F0>, <__main__.Chocolate object at 0x0000018F65EB98D0>, <__main__.Chocolate object at 0x0000018F65EBA290>, <__main__.Chocolate object at 0x0000018F65EBAB60>, <__main__.Chocolate object at 0x0000018F65EB9B40>, <__main__.Chocolate object at 0x0000018F65EBA260>, <__main__.Chocolate object at 0x0000018F65EB8A60>, <__main__.Chocolate object at 0x0000018F65EBA2C0>, <__main__.Chocolate object at 0x0000018F65EB9D80>, <__main__.Chocolate object at 0x0000018F65EB9FC0>]), (<__main__.ChocolateBox object at 0x0000018F65F181C0>, [<__main__.Chocolate object at 0x0000018F65E5E4A0>, <__main__.Chocolate object at 0x0000018F65E5F880>, <__main__.Chocolate object at 0x0000018F65E5F820>, <__main__.Chocolate object at 0x0000018F65E5CFA0>, <__main__.Chocolate object at 0x0000018F65EB90F0>, <__main__.Chocolate object at 0x0000018F65EB98D0>, <__main__.Chocolate object at 0x0000018F65EBA290>, <__main__.Chocolate object at 0x0000018F65EBAB60>, <__main__.Chocolate object at 0x0000018F65EB9B40>, <__main__.Chocolate object at 0x0000018F65EBA260>, <__main__.Chocolate object at 0x0000018F65EB8A60>, <__main__.Chocolate object at 0x0000018F65EBA2C0>, <__main__.Chocolate object at 0x0000018F65EB9D80>, <__main__.Chocolate object at 0x0000018F65EB9FC0>]), (<__main__.ChocolateBox object at 0x0000018F65F19A20>, [<__main__.Chocolate object at 0x0000018F65E5E4A0>, <__main__.Chocolate object at 0x0000018F65E5F880>, <__main__.Chocolate object at 0x0000018F65E5F910>, <__main__.Chocolate object at 0x0000018F65E5CFA0>, <__main__.Chocolate object at 0x0000018F65EB90F0>, <__main__.Chocolate object at 0x0000018F65EB98D0>, <__main__.Chocolate object at 0x0000018F65EBA290>, <__main__.Chocolate object at 0x0000018F65EBAB60>, <__main__.Chocolate object at 0x0000018F65EB9B40>, <__main__.Chocolate object at 0x0000018F65EBA260>, <__main__.Chocolate object at 0x0000018F65EB8A60>, <__main__.Chocolate object at 0x0000018F65EBA2C0>, <__main__.Chocolate object at 0x0000018F65EB9D80>, <__main__.Chocolate object at 0x0000018F65EB9FC0>]), (<__main__.ChocolateBox object at 0x0000018F65F18790>, [<__main__.Chocolate object at 0x0000018F65E5E4A0>, <__main__.Chocolate object at 0x0000018F65E5F880>, <__main__.Chocolate object at 0x0000018F65E5F910>, <__main__.Chocolate object at 0x0000018F65E5F820>, <__main__.Chocolate object at 0x0000018F65EB90F0>, <__main__.Chocolate object at 0x0000018F65EB98D0>, <__main__.Chocolate object at 0x0000018F65EBA290>, <__main__.Chocolate object at 0x0000018F65EBAB60>, <__main__.Chocolate object at 0x0000018F65EB9B40>, <__main__.Chocolate object at 0x0000018F65EBA260>, <__main__.Chocolate object at 0x0000018F65EB8A60>, <__main__.Chocolate object at 0x0000018F65EBA2C0>, <__main__.Chocolate object at 0x0000018F65EB9D80>, <__main__.Chocolate object at 0x0000018F65EB9FC0>])]\n"
     ]
    }
   ],
   "source": [
    "template = [\"viennese\", \"viennese\", \"viennese\", \"alpini\", \"alpini\", \"coffee\"]\n",
    "total_width = 100\n",
    "chocolate_box = ChocolateBox(template, total_width)\n",
    "\n",
    "\n",
    "def branch(chocolate_box: ChocolateBox, chocolates: List[Chocolate]) -> List[Tuple[Union[Chocolate, List[Chocolate]]]]:\n",
    "    empty_spaces = chocolate_box.find_empty_spaces()\n",
    "    first_empty_space = empty_spaces[0]\n",
    "    assignable_chocolates = chocolate_box.identify_possible_chocolates(chocolates, first_empty_space)\n",
    "    \n",
    "    new_branches = []\n",
    "\n",
    "    for chocolate in assignable_chocolates:\n",
    "        new_box = deepcopy(chocolate_box)\n",
    "        new_box.assign_chocolates(chocolate, first_empty_space)\n",
    "\n",
    "        new_available_chocolates = chocolates.copy()\n",
    "        new_available_chocolates.remove(chocolate)\n",
    "    \n",
    "        new_branches.append( \n",
    "            (new_box, new_available_chocolates)\n",
    "        )\n",
    "    \n",
    "    return new_branches\n",
    "\n",
    "new_branches = branch(chocolate_box, chocolates)\n",
    "print(new_branches)"
   ]
  },
  {
   "cell_type": "code",
   "execution_count": 64,
   "id": "4fdaa94f",
   "metadata": {},
   "outputs": [
    {
     "name": "stdout",
     "output_type": "stream",
     "text": [
      "95\n",
      "93\n",
      "96\n",
      "92\n",
      "91\n"
     ]
    }
   ],
   "source": [
    "def lower_bound(partial_solutions: List[Tuple[Union[ChocolateBox, List[Chocolate]]]]):\n",
    "    for chocolate_box, chocolates in partial_solutions:\n",
    "        chocolate_box.calculate_remaining_width()\n",
    "\n",
    "lower_bound(new_branches)"
   ]
  }
 ],
 "metadata": {
  "kernelspec": {
   "display_name": "Python 3.10.6",
   "language": "python",
   "name": "python3"
  },
  "language_info": {
   "codemirror_mode": {
    "name": "ipython",
    "version": 3
   },
   "file_extension": ".py",
   "mimetype": "text/x-python",
   "name": "python",
   "nbconvert_exporter": "python",
   "pygments_lexer": "ipython3",
   "version": "3.10.6"
  },
  "vscode": {
   "interpreter": {
    "hash": "c9d84718d20dd586545025ebf12033797278fedf4f136d6640e6f43dffce244c"
   }
  }
 },
 "nbformat": 4,
 "nbformat_minor": 5
}
